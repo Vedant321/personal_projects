{
 "cells": [
  {
   "cell_type": "markdown",
   "id": "adjacent-scanner",
   "metadata": {},
   "source": [
    "## Carry out Students’ Early Attrition Modelling for any University that offers a \n",
    "## wide variety of degree programs, from online degrees to a doctorate in \n",
    "## education. Early attrition is defined as student drop out within one year of \n",
    "## successfully joining the program (completed admission process)  Leverage \n",
    "## data on student demographic profile, course preferences, performance \n",
    "## record, grades, financial background, financial aid and other application \n",
    "## information to identify key drivers of early student attrition. Build a predictive \n",
    "## model to identify students with higher early attrition risk. Recommend \n",
    "## appropriate interventions based on the analysis."
   ]
  },
  {
   "cell_type": "code",
   "execution_count": 3,
   "id": "industrial-subject",
   "metadata": {},
   "outputs": [],
   "source": [
    "import pandas as pd\n",
    "from sklearn.model_selection import train_test_split\n",
    "from sklearn.feature_extraction.text import CountVectorizer, TfidfVectorizer\n",
    "from sklearn.linear_model import LogisticRegression\n",
    "from sklearn.metrics import accuracy_score, classification_report\n",
    "import numpy as np\n",
    "import pandas as pd\n",
    "from sklearn.datasets import load_boston\n",
    "from sklearn.model_selection import train_test_split\n",
    "from sklearn.ensemble import RandomForestRegressor\n",
    "from sklearn.inspection import permutation_importance\n",
    "from matplotlib import pyplot as plt\n",
    "from matplotlib.pyplot import figure\n",
    "# from sklearn.metrics import confusion_matrix\n",
    "from sklearn import metrics\n",
    "from sklearn.metrics import accuracy_score, confusion_matrix, classification_report, roc_auc_score, roc_curve"
   ]
  },
  {
   "cell_type": "code",
   "execution_count": 4,
   "id": "english-concert",
   "metadata": {},
   "outputs": [],
   "source": [
    "def read_dataset():\n",
    "    \"\"\"\n",
    "    This function will simply read the dataset into a pandas dataframe and return it\n",
    "    # Data set accquired/Downloaded from kaggle:\n",
    "    https://www.kaggle.com/datasets/ec3f351e04b3a5032bff35fa6196d52ce823835e12b3392f25d81fb6baf9bc9d\n",
    "    \"\"\"\n",
    "    \n",
    "    df = pd.read_csv(\"Dropout_Academic Success - Sheet1.csv\")\n",
    "    #print(df.head())\n",
    "    return df\n",
    "# df = read_dataset()\n",
    "# df.dropna()"
   ]
  },
  {
   "cell_type": "code",
   "execution_count": 12,
   "id": "stupid-setting",
   "metadata": {},
   "outputs": [],
   "source": [
    "dict_target = {'Dropout':-1, 'Graduate': 0, 'Enrolled': 1}"
   ]
  },
  {
   "cell_type": "code",
   "execution_count": 13,
   "id": "sporting-india",
   "metadata": {},
   "outputs": [
    {
     "data": {
      "text/plain": [
       "array([-1,  0,  1], dtype=int64)"
      ]
     },
     "execution_count": 13,
     "metadata": {},
     "output_type": "execute_result"
    }
   ],
   "source": [
    "df['Target'] = df['Target'].map(dict_target)\n",
    "df['Target'].unique()"
   ]
  },
  {
   "cell_type": "code",
   "execution_count": null,
   "id": "loving-release",
   "metadata": {},
   "outputs": [],
   "source": []
  },
  {
   "cell_type": "code",
   "execution_count": 14,
   "id": "threatened-consequence",
   "metadata": {},
   "outputs": [
    {
     "data": {
      "text/plain": [
       "(4424, 36)"
      ]
     },
     "execution_count": 14,
     "metadata": {},
     "output_type": "execute_result"
    }
   ],
   "source": [
    "df1 = df.loc[:, df.columns != 'Target']\n",
    "df1.shape"
   ]
  },
  {
   "cell_type": "code",
   "execution_count": 16,
   "id": "understood-story",
   "metadata": {},
   "outputs": [
    {
     "data": {
      "text/plain": [
       "(4424, 37)"
      ]
     },
     "execution_count": 16,
     "metadata": {},
     "output_type": "execute_result"
    }
   ],
   "source": [
    "df.shape"
   ]
  },
  {
   "cell_type": "code",
   "execution_count": null,
   "id": "bright-mississippi",
   "metadata": {},
   "outputs": [],
   "source": []
  },
  {
   "cell_type": "code",
   "execution_count": 17,
   "id": "registered-support",
   "metadata": {},
   "outputs": [],
   "source": [
    "X = pd.DataFrame(df1, columns=df1.columns)\n",
    "y = df['Target']\n",
    "X_train, X_test, y_train, y_test = train_test_split(X, y, test_size=0.25, random_state=42)"
   ]
  },
  {
   "cell_type": "code",
   "execution_count": 18,
   "id": "liable-louisiana",
   "metadata": {},
   "outputs": [],
   "source": [
    "import numpy as np\n",
    "import pandas as pd\n",
    "from sklearn.datasets import load_boston\n",
    "from sklearn.model_selection import train_test_split\n",
    "from sklearn.ensemble import RandomForestRegressor\n",
    "from sklearn.inspection import permutation_importance\n",
    "from matplotlib import pyplot as plt\n",
    "from matplotlib.pyplot import figure\n",
    "# from sklearn.metrics import confusion_matrix\n",
    "# from sklearn import metrics as ms\n",
    "from sklearn.metrics import accuracy_score, confusion_matrix, classification_report"
   ]
  },
  {
   "cell_type": "markdown",
   "id": "transparent-national",
   "metadata": {},
   "source": [
    "## Random Forest Model"
   ]
  },
  {
   "cell_type": "code",
   "execution_count": 20,
   "id": "aggregate-significance",
   "metadata": {},
   "outputs": [
    {
     "data": {
      "text/plain": [
       "RandomForestRegressor(n_estimators=150)"
      ]
     },
     "execution_count": 20,
     "metadata": {},
     "output_type": "execute_result"
    }
   ],
   "source": [
    "rf = RandomForestRegressor(n_estimators=150)\n",
    "rf.fit(X_train, y_train)\n"
   ]
  },
  {
   "cell_type": "code",
   "execution_count": 21,
   "id": "surprised-flooring",
   "metadata": {},
   "outputs": [
    {
     "name": "stdout",
     "output_type": "stream",
     "text": [
      "Accuracy of the RandomForestRegressor =  0.683\n",
      "The Confusion matrix for the above 3 targeted class is as follows:\n",
      "with \n",
      "X-axis = Actual values and Y-axis = Predicted values\n",
      "    -1    0   1\n",
      "0  220  153   1\n",
      "1    4  529   2\n",
      "2   21  170   6\n"
     ]
    }
   ],
   "source": [
    "rtree_predictions = rf.predict(X_test).round()\n",
    "# print(rtree_predictions)\n",
    "print(\"Accuracy of the RandomForestRegressor = \", accuracy_score(y_test, rtree_predictions).round(3))\n",
    "\n",
    "print(\"The Confusion matrix for the above 3 targeted class is as follows:\\nwith \\nX-axis = Actual values and Y-axis = Predicted values\")\n",
    "print(pd.DataFrame(confusion_matrix(y_test, rtree_predictions), columns = list(df['Target'].unique())))\n",
    "# print(cm)\n",
    "# print(\"Accuracy:\", ms.accuracy_score(y_test,rtree_predictions))\n",
    "\n"
   ]
  },
  {
   "cell_type": "code",
   "execution_count": null,
   "id": "bound-airplane",
   "metadata": {},
   "outputs": [],
   "source": []
  },
  {
   "cell_type": "code",
   "execution_count": 22,
   "id": "hungry-florence",
   "metadata": {},
   "outputs": [
    {
     "name": "stdout",
     "output_type": "stream",
     "text": [
      "[20 14  4  0  7 27 26 21  5 32 18 17 13 15  2 33 22  9  8  1 28 34 23 11\n",
      " 24  3 10 35 29 19 25  6 16 12 31 30]\n"
     ]
    },
    {
     "data": {
      "image/png": "[encoded data removed]",
      "text/plain": [
       "<Figure size 960x800 with 1 Axes>"
      ]
     },
     "metadata": {
      "needs_background": "light"
     },
     "output_type": "display_data"
    }
   ],
   "source": [
    "sort = rf.feature_importances_.argsort()\n",
    "print(sort)\n",
    "figure(figsize=(12, 10), dpi=80)\n",
    "# fig, ax = plt.subplots()\n",
    "# plt.subplots_adjust(bottom = 0.2)\n",
    "plt.barh(df.columns[sort], rf.feature_importances_[sort])\n",
    "plt.xlabel(\"Feature Importance\")\n",
    "\n",
    "# plt.figure(figsize=(100,200))\n",
    "plt.show()"
   ]
  },
  {
   "cell_type": "code",
   "execution_count": 101,
   "id": "final-joshua",
   "metadata": {},
   "outputs": [
    {
     "data": {
      "text/plain": [
       "array([ 1.74,  0.79, -3.12, -0.92, -4.06,  3.51, -1.7 ,  2.02,  0.32,\n",
       "        1.79])"
      ]
     },
     "execution_count": 101,
     "metadata": {},
     "output_type": "execute_result"
    }
   ],
   "source": [
    "df['GDP'].unique()"
   ]
  },
  {
   "cell_type": "code",
   "execution_count": 79,
   "id": "qualified-roads",
   "metadata": {},
   "outputs": [
    {
     "data": {
      "text/plain": [
       "Index(['Marital status', 'Application mode', 'Application order', 'Course',\n",
       "       'Daytime/evening attendance', 'Previous qualification',\n",
       "       'Previous qualification (grade)', 'Nacionality',\n",
       "       'Mother's qualification', 'Father's qualification',\n",
       "       'Mother's occupation', 'Father's occupation', 'Admission grade',\n",
       "       'Displaced', 'Educational special needs', 'Debtor',\n",
       "       'Tuition fees up to date', 'Gender', 'Scholarship holder',\n",
       "       'Age at enrollment', 'International',\n",
       "       'Curricular units 1st sem (credited)',\n",
       "       'Curricular units 1st sem (enrolled)',\n",
       "       'Curricular units 1st sem (evaluations)',\n",
       "       'Curricular units 1st sem (approved)',\n",
       "       'Curricular units 1st sem (grade)',\n",
       "       'Curricular units 1st sem (without evaluations)',\n",
       "       'Curricular units 2nd sem (credited)',\n",
       "       'Curricular units 2nd sem (enrolled)',\n",
       "       'Curricular units 2nd sem (evaluations)',\n",
       "       'Curricular units 2nd sem (approved)',\n",
       "       'Curricular units 2nd sem (grade)',\n",
       "       'Curricular units 2nd sem (without evaluations)', 'Unemployment rate',\n",
       "       'Inflation rate', 'GDP', 'Target'],\n",
       "      dtype='object')"
      ]
     },
     "execution_count": 79,
     "metadata": {},
     "output_type": "execute_result"
    }
   ],
   "source": [
    "df.columns"
   ]
  },
  {
   "cell_type": "code",
   "execution_count": null,
   "id": "nasty-break",
   "metadata": {},
   "outputs": [],
   "source": []
  },
  {
   "cell_type": "markdown",
   "id": "latest-master",
   "metadata": {},
   "source": [
    "## Since now we have read the dataset, we now check the quality of that dataset, i.e. check out for any missing values, error data or any other cleaning of the dataset if required."
   ]
  },
  {
   "cell_type": "code",
   "execution_count": 28,
   "id": "virgin-thermal",
   "metadata": {},
   "outputs": [
    {
     "data": {
      "text/plain": [
       "array([0, 0, 0, 0, 0, 0, 0, 0, 0, 0, 0, 0, 0, 0, 0, 0, 0, 0, 0, 0, 0, 0,\n",
       "       0, 0, 0, 0, 0, 0, 0, 0, 0, 0, 0, 0, 0, 0, 0], dtype=int64)"
      ]
     },
     "execution_count": 28,
     "metadata": {},
     "output_type": "execute_result"
    }
   ],
   "source": [
    "df.isna().sum().values # Gives us the sum of nan values in each of the attributes\n",
    "# we see that it does not have any nan values"
   ]
  },
  {
   "cell_type": "code",
   "execution_count": 29,
   "id": "electrical-palmer",
   "metadata": {},
   "outputs": [
    {
     "data": {
      "text/html": [
       "<div>\n",
       "<style scoped>\n",
       "    .dataframe tbody tr th:only-of-type {\n",
       "        vertical-align: middle;\n",
       "    }\n",
       "\n",
       "    .dataframe tbody tr th {\n",
       "        vertical-align: top;\n",
       "    }\n",
       "\n",
       "    .dataframe thead th {\n",
       "        text-align: right;\n",
       "    }\n",
       "</style>\n",
       "<table border=\"1\" class=\"dataframe\">\n",
       "  <thead>\n",
       "    <tr style=\"text-align: right;\">\n",
       "      <th></th>\n",
       "      <th>Marital status</th>\n",
       "      <th>Application mode</th>\n",
       "      <th>Application order</th>\n",
       "      <th>Course</th>\n",
       "      <th>Daytime/evening attendance</th>\n",
       "      <th>Previous qualification</th>\n",
       "      <th>Previous qualification (grade)</th>\n",
       "      <th>Nationality</th>\n",
       "      <th>Mother's qualification</th>\n",
       "      <th>Father's qualification</th>\n",
       "      <th>...</th>\n",
       "      <th>Curricular units 2nd sem (credited)</th>\n",
       "      <th>Curricular units 2nd sem (enrolled)</th>\n",
       "      <th>Curricular units 2nd sem (evaluations)</th>\n",
       "      <th>Curricular units 2nd sem (approved)</th>\n",
       "      <th>Curricular units 2nd sem (grade)</th>\n",
       "      <th>Curricular units 2nd sem (without evaluations)</th>\n",
       "      <th>Unemployment rate</th>\n",
       "      <th>Inflation rate</th>\n",
       "      <th>GDP</th>\n",
       "      <th>Target</th>\n",
       "    </tr>\n",
       "  </thead>\n",
       "  <tbody>\n",
       "    <tr>\n",
       "      <th>0</th>\n",
       "      <td>1</td>\n",
       "      <td>17</td>\n",
       "      <td>5</td>\n",
       "      <td>171</td>\n",
       "      <td>1</td>\n",
       "      <td>1</td>\n",
       "      <td>122.0</td>\n",
       "      <td>1</td>\n",
       "      <td>19</td>\n",
       "      <td>12</td>\n",
       "      <td>...</td>\n",
       "      <td>0</td>\n",
       "      <td>0</td>\n",
       "      <td>0</td>\n",
       "      <td>0</td>\n",
       "      <td>0.000000</td>\n",
       "      <td>0</td>\n",
       "      <td>10.8</td>\n",
       "      <td>1.4</td>\n",
       "      <td>1.74</td>\n",
       "      <td>-1</td>\n",
       "    </tr>\n",
       "    <tr>\n",
       "      <th>1</th>\n",
       "      <td>1</td>\n",
       "      <td>15</td>\n",
       "      <td>1</td>\n",
       "      <td>9254</td>\n",
       "      <td>1</td>\n",
       "      <td>1</td>\n",
       "      <td>160.0</td>\n",
       "      <td>1</td>\n",
       "      <td>1</td>\n",
       "      <td>3</td>\n",
       "      <td>...</td>\n",
       "      <td>0</td>\n",
       "      <td>6</td>\n",
       "      <td>6</td>\n",
       "      <td>6</td>\n",
       "      <td>13.666667</td>\n",
       "      <td>0</td>\n",
       "      <td>13.9</td>\n",
       "      <td>-0.3</td>\n",
       "      <td>0.79</td>\n",
       "      <td>0</td>\n",
       "    </tr>\n",
       "    <tr>\n",
       "      <th>2</th>\n",
       "      <td>1</td>\n",
       "      <td>1</td>\n",
       "      <td>5</td>\n",
       "      <td>9070</td>\n",
       "      <td>1</td>\n",
       "      <td>1</td>\n",
       "      <td>122.0</td>\n",
       "      <td>1</td>\n",
       "      <td>37</td>\n",
       "      <td>37</td>\n",
       "      <td>...</td>\n",
       "      <td>0</td>\n",
       "      <td>6</td>\n",
       "      <td>0</td>\n",
       "      <td>0</td>\n",
       "      <td>0.000000</td>\n",
       "      <td>0</td>\n",
       "      <td>10.8</td>\n",
       "      <td>1.4</td>\n",
       "      <td>1.74</td>\n",
       "      <td>-1</td>\n",
       "    </tr>\n",
       "    <tr>\n",
       "      <th>3</th>\n",
       "      <td>1</td>\n",
       "      <td>17</td>\n",
       "      <td>2</td>\n",
       "      <td>9773</td>\n",
       "      <td>1</td>\n",
       "      <td>1</td>\n",
       "      <td>122.0</td>\n",
       "      <td>1</td>\n",
       "      <td>38</td>\n",
       "      <td>37</td>\n",
       "      <td>...</td>\n",
       "      <td>0</td>\n",
       "      <td>6</td>\n",
       "      <td>10</td>\n",
       "      <td>5</td>\n",
       "      <td>12.400000</td>\n",
       "      <td>0</td>\n",
       "      <td>9.4</td>\n",
       "      <td>-0.8</td>\n",
       "      <td>-3.12</td>\n",
       "      <td>0</td>\n",
       "    </tr>\n",
       "    <tr>\n",
       "      <th>4</th>\n",
       "      <td>2</td>\n",
       "      <td>39</td>\n",
       "      <td>1</td>\n",
       "      <td>8014</td>\n",
       "      <td>0</td>\n",
       "      <td>1</td>\n",
       "      <td>100.0</td>\n",
       "      <td>1</td>\n",
       "      <td>37</td>\n",
       "      <td>38</td>\n",
       "      <td>...</td>\n",
       "      <td>0</td>\n",
       "      <td>6</td>\n",
       "      <td>6</td>\n",
       "      <td>6</td>\n",
       "      <td>13.000000</td>\n",
       "      <td>0</td>\n",
       "      <td>13.9</td>\n",
       "      <td>-0.3</td>\n",
       "      <td>0.79</td>\n",
       "      <td>0</td>\n",
       "    </tr>\n",
       "  </tbody>\n",
       "</table>\n",
       "<p>5 rows × 37 columns</p>\n",
       "</div>"
      ],
      "text/plain": [
       "   Marital status  Application mode  Application order  Course  \\\n",
       "0               1                17                  5     171   \n",
       "1               1                15                  1    9254   \n",
       "2               1                 1                  5    9070   \n",
       "3               1                17                  2    9773   \n",
       "4               2                39                  1    8014   \n",
       "\n",
       "   Daytime/evening attendance  Previous qualification  \\\n",
       "0                           1                       1   \n",
       "1                           1                       1   \n",
       "2                           1                       1   \n",
       "3                           1                       1   \n",
       "4                           0                       1   \n",
       "\n",
       "   Previous qualification (grade)  Nationality  Mother's qualification  \\\n",
       "0                           122.0            1                      19   \n",
       "1                           160.0            1                       1   \n",
       "2                           122.0            1                      37   \n",
       "3                           122.0            1                      38   \n",
       "4                           100.0            1                      37   \n",
       "\n",
       "   Father's qualification  ...  Curricular units 2nd sem (credited)  \\\n",
       "0                      12  ...                                    0   \n",
       "1                       3  ...                                    0   \n",
       "2                      37  ...                                    0   \n",
       "3                      37  ...                                    0   \n",
       "4                      38  ...                                    0   \n",
       "\n",
       "   Curricular units 2nd sem (enrolled)  \\\n",
       "0                                    0   \n",
       "1                                    6   \n",
       "2                                    6   \n",
       "3                                    6   \n",
       "4                                    6   \n",
       "\n",
       "   Curricular units 2nd sem (evaluations)  \\\n",
       "0                                       0   \n",
       "1                                       6   \n",
       "2                                       0   \n",
       "3                                      10   \n",
       "4                                       6   \n",
       "\n",
       "   Curricular units 2nd sem (approved)  Curricular units 2nd sem (grade)  \\\n",
       "0                                    0                          0.000000   \n",
       "1                                    6                         13.666667   \n",
       "2                                    0                          0.000000   \n",
       "3                                    5                         12.400000   \n",
       "4                                    6                         13.000000   \n",
       "\n",
       "   Curricular units 2nd sem (without evaluations)  Unemployment rate  \\\n",
       "0                                               0               10.8   \n",
       "1                                               0               13.9   \n",
       "2                                               0               10.8   \n",
       "3                                               0                9.4   \n",
       "4                                               0               13.9   \n",
       "\n",
       "   Inflation rate   GDP  Target  \n",
       "0             1.4  1.74      -1  \n",
       "1            -0.3  0.79       0  \n",
       "2             1.4  1.74      -1  \n",
       "3            -0.8 -3.12       0  \n",
       "4            -0.3  0.79       0  \n",
       "\n",
       "[5 rows x 37 columns]"
      ]
     },
     "execution_count": 29,
     "metadata": {},
     "output_type": "execute_result"
    }
   ],
   "source": [
    "# Now we check each column if there's any inconsistency\n",
    "\n",
    "df.head()"
   ]
  },
  {
   "cell_type": "code",
   "execution_count": 30,
   "id": "tutorial-dodge",
   "metadata": {},
   "outputs": [
    {
     "data": {
      "text/plain": [
       "18.57142857"
      ]
     },
     "execution_count": 30,
     "metadata": {},
     "output_type": "execute_result"
    }
   ],
   "source": [
    "# df['Previous qualification (grade)'].max() # Since this max value is 190, we can assume that the total marks would be out of 200\n",
    "\n",
    "# Nationality has incorrect spelling, so we correct/ rename that.\n",
    "# df.rename(columns = {'Nacionality':'Nationality'}, inplace = True)\n",
    "df['Curricular units 2nd sem (grade)'].max()\n"
   ]
  },
  {
   "cell_type": "code",
   "execution_count": 1,
   "id": "powered-papua",
   "metadata": {},
   "outputs": [],
   "source": [
    "# import seaborn as sns\n",
    "# ax = sns.pairplot(df)\n",
    "  \n",
    "# # giving title to the plot\n",
    "# plt.title('Graph')\n",
    "# plt.show()"
   ]
  },
  {
   "cell_type": "code",
   "execution_count": null,
   "id": "extreme-viking",
   "metadata": {},
   "outputs": [],
   "source": []
  },
  {
   "cell_type": "markdown",
   "id": "aquatic-testament",
   "metadata": {},
   "source": [
    "# Recommend appropriate interventions based on the analysis."
   ]
  },
  {
   "cell_type": "code",
   "execution_count": 31,
   "id": "prerequisite-appreciation",
   "metadata": {},
   "outputs": [
    {
     "data": {
      "text/html": [
       "<div>\n",
       "<style scoped>\n",
       "    .dataframe tbody tr th:only-of-type {\n",
       "        vertical-align: middle;\n",
       "    }\n",
       "\n",
       "    .dataframe tbody tr th {\n",
       "        vertical-align: top;\n",
       "    }\n",
       "\n",
       "    .dataframe thead th {\n",
       "        text-align: right;\n",
       "    }\n",
       "</style>\n",
       "<table border=\"1\" class=\"dataframe\">\n",
       "  <thead>\n",
       "    <tr style=\"text-align: right;\">\n",
       "      <th></th>\n",
       "      <th>Marital status</th>\n",
       "      <th>Application mode</th>\n",
       "      <th>Application order</th>\n",
       "      <th>Course</th>\n",
       "      <th>Daytime/evening attendance</th>\n",
       "      <th>Previous qualification</th>\n",
       "      <th>Previous qualification (grade)</th>\n",
       "      <th>Nationality</th>\n",
       "      <th>Mother's qualification</th>\n",
       "      <th>Father's qualification</th>\n",
       "      <th>...</th>\n",
       "      <th>Curricular units 2nd sem (credited)</th>\n",
       "      <th>Curricular units 2nd sem (enrolled)</th>\n",
       "      <th>Curricular units 2nd sem (evaluations)</th>\n",
       "      <th>Curricular units 2nd sem (approved)</th>\n",
       "      <th>Curricular units 2nd sem (grade)</th>\n",
       "      <th>Curricular units 2nd sem (without evaluations)</th>\n",
       "      <th>Unemployment rate</th>\n",
       "      <th>Inflation rate</th>\n",
       "      <th>GDP</th>\n",
       "      <th>Target</th>\n",
       "    </tr>\n",
       "  </thead>\n",
       "  <tbody>\n",
       "    <tr>\n",
       "      <th>0</th>\n",
       "      <td>1</td>\n",
       "      <td>17</td>\n",
       "      <td>5</td>\n",
       "      <td>171</td>\n",
       "      <td>1</td>\n",
       "      <td>1</td>\n",
       "      <td>122.0</td>\n",
       "      <td>1</td>\n",
       "      <td>19</td>\n",
       "      <td>12</td>\n",
       "      <td>...</td>\n",
       "      <td>0</td>\n",
       "      <td>0</td>\n",
       "      <td>0</td>\n",
       "      <td>0</td>\n",
       "      <td>0.000000</td>\n",
       "      <td>0</td>\n",
       "      <td>10.8</td>\n",
       "      <td>1.4</td>\n",
       "      <td>1.74</td>\n",
       "      <td>-1</td>\n",
       "    </tr>\n",
       "    <tr>\n",
       "      <th>1</th>\n",
       "      <td>1</td>\n",
       "      <td>15</td>\n",
       "      <td>1</td>\n",
       "      <td>9254</td>\n",
       "      <td>1</td>\n",
       "      <td>1</td>\n",
       "      <td>160.0</td>\n",
       "      <td>1</td>\n",
       "      <td>1</td>\n",
       "      <td>3</td>\n",
       "      <td>...</td>\n",
       "      <td>0</td>\n",
       "      <td>6</td>\n",
       "      <td>6</td>\n",
       "      <td>6</td>\n",
       "      <td>13.666667</td>\n",
       "      <td>0</td>\n",
       "      <td>13.9</td>\n",
       "      <td>-0.3</td>\n",
       "      <td>0.79</td>\n",
       "      <td>0</td>\n",
       "    </tr>\n",
       "    <tr>\n",
       "      <th>2</th>\n",
       "      <td>1</td>\n",
       "      <td>1</td>\n",
       "      <td>5</td>\n",
       "      <td>9070</td>\n",
       "      <td>1</td>\n",
       "      <td>1</td>\n",
       "      <td>122.0</td>\n",
       "      <td>1</td>\n",
       "      <td>37</td>\n",
       "      <td>37</td>\n",
       "      <td>...</td>\n",
       "      <td>0</td>\n",
       "      <td>6</td>\n",
       "      <td>0</td>\n",
       "      <td>0</td>\n",
       "      <td>0.000000</td>\n",
       "      <td>0</td>\n",
       "      <td>10.8</td>\n",
       "      <td>1.4</td>\n",
       "      <td>1.74</td>\n",
       "      <td>-1</td>\n",
       "    </tr>\n",
       "    <tr>\n",
       "      <th>3</th>\n",
       "      <td>1</td>\n",
       "      <td>17</td>\n",
       "      <td>2</td>\n",
       "      <td>9773</td>\n",
       "      <td>1</td>\n",
       "      <td>1</td>\n",
       "      <td>122.0</td>\n",
       "      <td>1</td>\n",
       "      <td>38</td>\n",
       "      <td>37</td>\n",
       "      <td>...</td>\n",
       "      <td>0</td>\n",
       "      <td>6</td>\n",
       "      <td>10</td>\n",
       "      <td>5</td>\n",
       "      <td>12.400000</td>\n",
       "      <td>0</td>\n",
       "      <td>9.4</td>\n",
       "      <td>-0.8</td>\n",
       "      <td>-3.12</td>\n",
       "      <td>0</td>\n",
       "    </tr>\n",
       "    <tr>\n",
       "      <th>4</th>\n",
       "      <td>2</td>\n",
       "      <td>39</td>\n",
       "      <td>1</td>\n",
       "      <td>8014</td>\n",
       "      <td>0</td>\n",
       "      <td>1</td>\n",
       "      <td>100.0</td>\n",
       "      <td>1</td>\n",
       "      <td>37</td>\n",
       "      <td>38</td>\n",
       "      <td>...</td>\n",
       "      <td>0</td>\n",
       "      <td>6</td>\n",
       "      <td>6</td>\n",
       "      <td>6</td>\n",
       "      <td>13.000000</td>\n",
       "      <td>0</td>\n",
       "      <td>13.9</td>\n",
       "      <td>-0.3</td>\n",
       "      <td>0.79</td>\n",
       "      <td>0</td>\n",
       "    </tr>\n",
       "  </tbody>\n",
       "</table>\n",
       "<p>5 rows × 37 columns</p>\n",
       "</div>"
      ],
      "text/plain": [
       "   Marital status  Application mode  Application order  Course  \\\n",
       "0               1                17                  5     171   \n",
       "1               1                15                  1    9254   \n",
       "2               1                 1                  5    9070   \n",
       "3               1                17                  2    9773   \n",
       "4               2                39                  1    8014   \n",
       "\n",
       "   Daytime/evening attendance  Previous qualification  \\\n",
       "0                           1                       1   \n",
       "1                           1                       1   \n",
       "2                           1                       1   \n",
       "3                           1                       1   \n",
       "4                           0                       1   \n",
       "\n",
       "   Previous qualification (grade)  Nationality  Mother's qualification  \\\n",
       "0                           122.0            1                      19   \n",
       "1                           160.0            1                       1   \n",
       "2                           122.0            1                      37   \n",
       "3                           122.0            1                      38   \n",
       "4                           100.0            1                      37   \n",
       "\n",
       "   Father's qualification  ...  Curricular units 2nd sem (credited)  \\\n",
       "0                      12  ...                                    0   \n",
       "1                       3  ...                                    0   \n",
       "2                      37  ...                                    0   \n",
       "3                      37  ...                                    0   \n",
       "4                      38  ...                                    0   \n",
       "\n",
       "   Curricular units 2nd sem (enrolled)  \\\n",
       "0                                    0   \n",
       "1                                    6   \n",
       "2                                    6   \n",
       "3                                    6   \n",
       "4                                    6   \n",
       "\n",
       "   Curricular units 2nd sem (evaluations)  \\\n",
       "0                                       0   \n",
       "1                                       6   \n",
       "2                                       0   \n",
       "3                                      10   \n",
       "4                                       6   \n",
       "\n",
       "   Curricular units 2nd sem (approved)  Curricular units 2nd sem (grade)  \\\n",
       "0                                    0                          0.000000   \n",
       "1                                    6                         13.666667   \n",
       "2                                    0                          0.000000   \n",
       "3                                    5                         12.400000   \n",
       "4                                    6                         13.000000   \n",
       "\n",
       "   Curricular units 2nd sem (without evaluations)  Unemployment rate  \\\n",
       "0                                               0               10.8   \n",
       "1                                               0               13.9   \n",
       "2                                               0               10.8   \n",
       "3                                               0                9.4   \n",
       "4                                               0               13.9   \n",
       "\n",
       "   Inflation rate   GDP  Target  \n",
       "0             1.4  1.74      -1  \n",
       "1            -0.3  0.79       0  \n",
       "2             1.4  1.74      -1  \n",
       "3            -0.8 -3.12       0  \n",
       "4            -0.3  0.79       0  \n",
       "\n",
       "[5 rows x 37 columns]"
      ]
     },
     "execution_count": 31,
     "metadata": {},
     "output_type": "execute_result"
    }
   ],
   "source": [
    "df.head()"
   ]
  },
  {
   "cell_type": "markdown",
   "id": "refined-reasoning",
   "metadata": {},
   "source": [
    "# Before we build a model let's try and undertand what might be different reasons for student's early attrition rate."
   ]
  },
  {
   "cell_type": "code",
   "execution_count": 42,
   "id": "positive-hopkins",
   "metadata": {},
   "outputs": [
    {
     "name": "stdout",
     "output_type": "stream",
     "text": [
      "(4424, 37)\n",
      "(1421, 37)\n"
     ]
    }
   ],
   "source": [
    "df.rename(columns = {'Nacionality':'Nationality'}, inplace = True)\n",
    "dropout_df = df[df['Target'] == -1] # as Dropout is replaced by 1\n",
    "print(df.shape)\n",
    "print(dropout_df.shape)"
   ]
  },
  {
   "cell_type": "code",
   "execution_count": 43,
   "id": "center-shooting",
   "metadata": {},
   "outputs": [
    {
     "name": "stdout",
     "output_type": "stream",
     "text": [
      "The total number of records we are having are: (4424, 37)\n",
      "The total number of dropout records we are having are: (1421, 37)\n",
      "\n",
      "==================================================================\n",
      "The percentage of students that have dropped out are 32.12%\n"
     ]
    }
   ],
   "source": [
    "print(\"The total number of records we are having are: {}\".format(df.shape))\n",
    "print(\"The total number of dropout records we are having are: {}\".format(dropout_df.shape))\n",
    "print(\"\\n==================================================================\")\n",
    "total_number = df.shape[0]\n",
    "dropout_number = dropout_df.shape[0]\n",
    "print(\"The percentage of students that have dropped out are {}%\".format(round((dropout_number/total_number)*100, 2)))"
   ]
  },
  {
   "cell_type": "code",
   "execution_count": 44,
   "id": "confused-brass",
   "metadata": {},
   "outputs": [
    {
     "data": {
      "text/html": [
       "<div>\n",
       "<style scoped>\n",
       "    .dataframe tbody tr th:only-of-type {\n",
       "        vertical-align: middle;\n",
       "    }\n",
       "\n",
       "    .dataframe tbody tr th {\n",
       "        vertical-align: top;\n",
       "    }\n",
       "\n",
       "    .dataframe thead th {\n",
       "        text-align: right;\n",
       "    }\n",
       "</style>\n",
       "<table border=\"1\" class=\"dataframe\">\n",
       "  <thead>\n",
       "    <tr style=\"text-align: right;\">\n",
       "      <th></th>\n",
       "      <th>Marital status</th>\n",
       "      <th>Application mode</th>\n",
       "      <th>Application order</th>\n",
       "      <th>Course</th>\n",
       "      <th>Daytime/evening attendance</th>\n",
       "      <th>Previous qualification</th>\n",
       "      <th>Previous qualification (grade)</th>\n",
       "      <th>Nationality</th>\n",
       "      <th>Mother's qualification</th>\n",
       "      <th>Father's qualification</th>\n",
       "      <th>...</th>\n",
       "      <th>Curricular units 2nd sem (credited)</th>\n",
       "      <th>Curricular units 2nd sem (enrolled)</th>\n",
       "      <th>Curricular units 2nd sem (evaluations)</th>\n",
       "      <th>Curricular units 2nd sem (approved)</th>\n",
       "      <th>Curricular units 2nd sem (grade)</th>\n",
       "      <th>Curricular units 2nd sem (without evaluations)</th>\n",
       "      <th>Unemployment rate</th>\n",
       "      <th>Inflation rate</th>\n",
       "      <th>GDP</th>\n",
       "      <th>Target</th>\n",
       "    </tr>\n",
       "  </thead>\n",
       "  <tbody>\n",
       "    <tr>\n",
       "      <th>0</th>\n",
       "      <td>1</td>\n",
       "      <td>17</td>\n",
       "      <td>5</td>\n",
       "      <td>171</td>\n",
       "      <td>1</td>\n",
       "      <td>1</td>\n",
       "      <td>122.0</td>\n",
       "      <td>1</td>\n",
       "      <td>19</td>\n",
       "      <td>12</td>\n",
       "      <td>...</td>\n",
       "      <td>0</td>\n",
       "      <td>0</td>\n",
       "      <td>0</td>\n",
       "      <td>0</td>\n",
       "      <td>0.0</td>\n",
       "      <td>0</td>\n",
       "      <td>10.8</td>\n",
       "      <td>1.4</td>\n",
       "      <td>1.74</td>\n",
       "      <td>-1</td>\n",
       "    </tr>\n",
       "    <tr>\n",
       "      <th>2</th>\n",
       "      <td>1</td>\n",
       "      <td>1</td>\n",
       "      <td>5</td>\n",
       "      <td>9070</td>\n",
       "      <td>1</td>\n",
       "      <td>1</td>\n",
       "      <td>122.0</td>\n",
       "      <td>1</td>\n",
       "      <td>37</td>\n",
       "      <td>37</td>\n",
       "      <td>...</td>\n",
       "      <td>0</td>\n",
       "      <td>6</td>\n",
       "      <td>0</td>\n",
       "      <td>0</td>\n",
       "      <td>0.0</td>\n",
       "      <td>0</td>\n",
       "      <td>10.8</td>\n",
       "      <td>1.4</td>\n",
       "      <td>1.74</td>\n",
       "      <td>-1</td>\n",
       "    </tr>\n",
       "    <tr>\n",
       "      <th>7</th>\n",
       "      <td>1</td>\n",
       "      <td>18</td>\n",
       "      <td>4</td>\n",
       "      <td>9254</td>\n",
       "      <td>1</td>\n",
       "      <td>1</td>\n",
       "      <td>119.0</td>\n",
       "      <td>1</td>\n",
       "      <td>37</td>\n",
       "      <td>37</td>\n",
       "      <td>...</td>\n",
       "      <td>0</td>\n",
       "      <td>5</td>\n",
       "      <td>5</td>\n",
       "      <td>0</td>\n",
       "      <td>0.0</td>\n",
       "      <td>0</td>\n",
       "      <td>15.5</td>\n",
       "      <td>2.8</td>\n",
       "      <td>-4.06</td>\n",
       "      <td>-1</td>\n",
       "    </tr>\n",
       "    <tr>\n",
       "      <th>9</th>\n",
       "      <td>1</td>\n",
       "      <td>1</td>\n",
       "      <td>1</td>\n",
       "      <td>9238</td>\n",
       "      <td>1</td>\n",
       "      <td>1</td>\n",
       "      <td>138.0</td>\n",
       "      <td>1</td>\n",
       "      <td>1</td>\n",
       "      <td>19</td>\n",
       "      <td>...</td>\n",
       "      <td>0</td>\n",
       "      <td>6</td>\n",
       "      <td>14</td>\n",
       "      <td>2</td>\n",
       "      <td>13.5</td>\n",
       "      <td>0</td>\n",
       "      <td>8.9</td>\n",
       "      <td>1.4</td>\n",
       "      <td>3.51</td>\n",
       "      <td>-1</td>\n",
       "    </tr>\n",
       "    <tr>\n",
       "      <th>12</th>\n",
       "      <td>1</td>\n",
       "      <td>1</td>\n",
       "      <td>2</td>\n",
       "      <td>9853</td>\n",
       "      <td>1</td>\n",
       "      <td>1</td>\n",
       "      <td>133.0</td>\n",
       "      <td>1</td>\n",
       "      <td>19</td>\n",
       "      <td>37</td>\n",
       "      <td>...</td>\n",
       "      <td>0</td>\n",
       "      <td>6</td>\n",
       "      <td>0</td>\n",
       "      <td>0</td>\n",
       "      <td>0.0</td>\n",
       "      <td>0</td>\n",
       "      <td>12.7</td>\n",
       "      <td>3.7</td>\n",
       "      <td>-1.70</td>\n",
       "      <td>-1</td>\n",
       "    </tr>\n",
       "  </tbody>\n",
       "</table>\n",
       "<p>5 rows × 37 columns</p>\n",
       "</div>"
      ],
      "text/plain": [
       "    Marital status  Application mode  Application order  Course  \\\n",
       "0                1                17                  5     171   \n",
       "2                1                 1                  5    9070   \n",
       "7                1                18                  4    9254   \n",
       "9                1                 1                  1    9238   \n",
       "12               1                 1                  2    9853   \n",
       "\n",
       "    Daytime/evening attendance  Previous qualification  \\\n",
       "0                            1                       1   \n",
       "2                            1                       1   \n",
       "7                            1                       1   \n",
       "9                            1                       1   \n",
       "12                           1                       1   \n",
       "\n",
       "    Previous qualification (grade)  Nationality  Mother's qualification  \\\n",
       "0                            122.0            1                      19   \n",
       "2                            122.0            1                      37   \n",
       "7                            119.0            1                      37   \n",
       "9                            138.0            1                       1   \n",
       "12                           133.0            1                      19   \n",
       "\n",
       "    Father's qualification  ...  Curricular units 2nd sem (credited)  \\\n",
       "0                       12  ...                                    0   \n",
       "2                       37  ...                                    0   \n",
       "7                       37  ...                                    0   \n",
       "9                       19  ...                                    0   \n",
       "12                      37  ...                                    0   \n",
       "\n",
       "    Curricular units 2nd sem (enrolled)  \\\n",
       "0                                     0   \n",
       "2                                     6   \n",
       "7                                     5   \n",
       "9                                     6   \n",
       "12                                    6   \n",
       "\n",
       "    Curricular units 2nd sem (evaluations)  \\\n",
       "0                                        0   \n",
       "2                                        0   \n",
       "7                                        5   \n",
       "9                                       14   \n",
       "12                                       0   \n",
       "\n",
       "    Curricular units 2nd sem (approved)  Curricular units 2nd sem (grade)  \\\n",
       "0                                     0                               0.0   \n",
       "2                                     0                               0.0   \n",
       "7                                     0                               0.0   \n",
       "9                                     2                              13.5   \n",
       "12                                    0                               0.0   \n",
       "\n",
       "    Curricular units 2nd sem (without evaluations)  Unemployment rate  \\\n",
       "0                                                0               10.8   \n",
       "2                                                0               10.8   \n",
       "7                                                0               15.5   \n",
       "9                                                0                8.9   \n",
       "12                                               0               12.7   \n",
       "\n",
       "    Inflation rate   GDP  Target  \n",
       "0              1.4  1.74      -1  \n",
       "2              1.4  1.74      -1  \n",
       "7              2.8 -4.06      -1  \n",
       "9              1.4  3.51      -1  \n",
       "12             3.7 -1.70      -1  \n",
       "\n",
       "[5 rows x 37 columns]"
      ]
     },
     "execution_count": 44,
     "metadata": {},
     "output_type": "execute_result"
    }
   ],
   "source": [
    "dropout_df.head()"
   ]
  },
  {
   "cell_type": "code",
   "execution_count": 45,
   "id": "national-whale",
   "metadata": {},
   "outputs": [],
   "source": [
    "# Counter(list(df['Previous qualification']))"
   ]
  },
  {
   "cell_type": "code",
   "execution_count": 75,
   "id": "dramatic-organizer",
   "metadata": {},
   "outputs": [],
   "source": [
    "# # Now lets checkout the count of each attribute of which is max that is resulting in student attrition\n",
    "# from collections import Counter\n",
    "# Counter(dropout_df['Curricular units 2nd sem (grade)'])\n",
    "\n",
    "# # Out of all the Marital Status values we have we see that value number:1 is droopping out the most\n",
    "# # We need to make sure what type of status is this and make sure we reduce the number of admits and give opportunity to other\n",
    "# # Marital status number\n",
    "\n",
    "# # Output:\n",
    "# # Counter({1: 1184, 2: 179, 4: 42, 3: 1, 5: 11, 6: 4})"
   ]
  },
  {
   "cell_type": "code",
   "execution_count": null,
   "id": "headed-training",
   "metadata": {},
   "outputs": [],
   "source": []
  },
  {
   "cell_type": "code",
   "execution_count": 51,
   "id": "electoral-humanity",
   "metadata": {},
   "outputs": [
    {
     "data": {
      "image/png": "[encoded data removed]",
      "text/plain": [
       "<Figure size 960x800 with 1 Axes>"
      ]
     },
     "metadata": {
      "needs_background": "light"
     },
     "output_type": "display_data"
    },
    {
     "name": "stdout",
     "output_type": "stream",
     "text": [
      "Dropout status for col = 'Marital status' based on the greatest first are as follows: format = (key: occurrence)\n"
     ]
    },
    {
     "data": {
      "image/png": "[encoded data removed]",
      "text/plain": [
       "<Figure size 432x288 with 1 Axes>"
      ]
     },
     "metadata": {
      "needs_background": "light"
     },
     "output_type": "display_data"
    },
    {
     "name": "stdout",
     "output_type": "stream",
     "text": [
      "Dropout status for col = 'Application mode' based on the greatest first are as follows: format = (key: occurrence)\n"
     ]
    },
    {
     "data": {
      "image/png": "[encoded data removed]",
      "text/plain": [
       "<Figure size 432x288 with 1 Axes>"
      ]
     },
     "metadata": {
      "needs_background": "light"
     },
     "output_type": "display_data"
    },
    {
     "name": "stdout",
     "output_type": "stream",
     "text": [
      "Dropout status for col = 'Application order' based on the greatest first are as follows: format = (key: occurrence)\n"
     ]
    },
    {
     "data": {
      "image/png": "[encoded data removed]",
      "text/plain": [
       "<Figure size 432x288 with 1 Axes>"
      ]
     },
     "metadata": {
      "needs_background": "light"
     },
     "output_type": "display_data"
    },
    {
     "name": "stdout",
     "output_type": "stream",
     "text": [
      "Dropout status for col = 'Course' based on the greatest first are as follows: format = (key: occurrence)\n"
     ]
    },
    {
     "data": {
      "image/png": "[encoded data removed]",
      "text/plain": [
       "<Figure size 432x288 with 1 Axes>"
      ]
     },
     "metadata": {
      "needs_background": "light"
     },
     "output_type": "display_data"
    },
    {
     "name": "stdout",
     "output_type": "stream",
     "text": [
      "Dropout status for col = 'Daytime/evening attendance' based on the greatest first are as follows: format = (key: occurrence)\n"
     ]
    },
    {
     "data": {
      "image/png": "[encoded data removed]",
      "text/plain": [
       "<Figure size 432x288 with 1 Axes>"
      ]
     },
     "metadata": {
      "needs_background": "light"
     },
     "output_type": "display_data"
    },
    {
     "name": "stdout",
     "output_type": "stream",
     "text": [
      "Dropout status for col = 'Previous qualification' based on the greatest first are as follows: format = (key: occurrence)\n"
     ]
    },
    {
     "data": {
      "image/png": "[encoded data removed]",
      "text/plain": [
       "<Figure size 432x288 with 1 Axes>"
      ]
     },
     "metadata": {
      "needs_background": "light"
     },
     "output_type": "display_data"
    },
    {
     "name": "stdout",
     "output_type": "stream",
     "text": [
      "Dropout status for col = 'Previous qualification (grade)' based on the greatest first are as follows: format = (key: occurrence)\n"
     ]
    },
    {
     "data": {
      "image/png": "[encoded data removed]",
      "text/plain": [
       "<Figure size 432x288 with 1 Axes>"
      ]
     },
     "metadata": {
      "needs_background": "light"
     },
     "output_type": "display_data"
    },
    {
     "name": "stdout",
     "output_type": "stream",
     "text": [
      "Dropout status for col = 'Nationality' based on the greatest first are as follows: format = (key: occurrence)\n"
     ]
    },
    {
     "data": {
      "image/png": "[encoded data removed]",
      "text/plain": [
       "<Figure size 432x288 with 1 Axes>"
      ]
     },
     "metadata": {
      "needs_background": "light"
     },
     "output_type": "display_data"
    },
    {
     "name": "stdout",
     "output_type": "stream",
     "text": [
      "Dropout status for col = 'Mother's qualification' based on the greatest first are as follows: format = (key: occurrence)\n"
     ]
    },
    {
     "data": {
      "image/png": "[encoded data removed]",
      "text/plain": [
       "<Figure size 432x288 with 1 Axes>"
      ]
     },
     "metadata": {
      "needs_background": "light"
     },
     "output_type": "display_data"
    },
    {
     "name": "stdout",
     "output_type": "stream",
     "text": [
      "Dropout status for col = 'Father's qualification' based on the greatest first are as follows: format = (key: occurrence)\n"
     ]
    },
    {
     "data": {
      "image/png": "[encoded data removed]",
      "text/plain": [
       "<Figure size 432x288 with 1 Axes>"
      ]
     },
     "metadata": {
      "needs_background": "light"
     },
     "output_type": "display_data"
    },
    {
     "name": "stdout",
     "output_type": "stream",
     "text": [
      "Dropout status for col = 'Mother's occupation' based on the greatest first are as follows: format = (key: occurrence)\n"
     ]
    },
    {
     "data": {
      "image/png": "[encoded data removed]",
      "text/plain": [
       "<Figure size 432x288 with 1 Axes>"
      ]
     },
     "metadata": {
      "needs_background": "light"
     },
     "output_type": "display_data"
    },
    {
     "name": "stdout",
     "output_type": "stream",
     "text": [
      "Dropout status for col = 'Father's occupation' based on the greatest first are as follows: format = (key: occurrence)\n"
     ]
    },
    {
     "data": {
      "image/png": "[encoded data removed]",
      "text/plain": [
       "<Figure size 432x288 with 1 Axes>"
      ]
     },
     "metadata": {
      "needs_background": "light"
     },
     "output_type": "display_data"
    },
    {
     "name": "stdout",
     "output_type": "stream",
     "text": [
      "Dropout status for col = 'Admission grade' based on the greatest first are as follows: format = (key: occurrence)\n"
     ]
    },
    {
     "data": {
      "image/png": "[encoded data removed]",
      "text/plain": [
       "<Figure size 432x288 with 1 Axes>"
      ]
     },
     "metadata": {
      "needs_background": "light"
     },
     "output_type": "display_data"
    },
    {
     "name": "stdout",
     "output_type": "stream",
     "text": [
      "Dropout status for col = 'Displaced' based on the greatest first are as follows: format = (key: occurrence)\n"
     ]
    },
    {
     "data": {
      "image/png": "[encoded data removed]",
      "text/plain": [
       "<Figure size 432x288 with 1 Axes>"
      ]
     },
     "metadata": {
      "needs_background": "light"
     },
     "output_type": "display_data"
    },
    {
     "name": "stdout",
     "output_type": "stream",
     "text": [
      "Dropout status for col = 'Educational special needs' based on the greatest first are as follows: format = (key: occurrence)\n"
     ]
    },
    {
     "data": {
      "image/png": "[encoded data removed]",
      "text/plain": [
       "<Figure size 432x288 with 1 Axes>"
      ]
     },
     "metadata": {
      "needs_background": "light"
     },
     "output_type": "display_data"
    },
    {
     "name": "stdout",
     "output_type": "stream",
     "text": [
      "Dropout status for col = 'Debtor' based on the greatest first are as follows: format = (key: occurrence)\n"
     ]
    },
    {
     "data": {
      "image/png": "[encoded data removed]",
      "text/plain": [
       "<Figure size 432x288 with 1 Axes>"
      ]
     },
     "metadata": {
      "needs_background": "light"
     },
     "output_type": "display_data"
    },
    {
     "name": "stdout",
     "output_type": "stream",
     "text": [
      "Dropout status for col = 'Tuition fees up to date' based on the greatest first are as follows: format = (key: occurrence)\n"
     ]
    },
    {
     "data": {
      "image/png": "[encoded data removed]",
      "text/plain": [
       "<Figure size 432x288 with 1 Axes>"
      ]
     },
     "metadata": {
      "needs_background": "light"
     },
     "output_type": "display_data"
    },
    {
     "name": "stdout",
     "output_type": "stream",
     "text": [
      "Dropout status for col = 'Gender' based on the greatest first are as follows: format = (key: occurrence)\n"
     ]
    },
    {
     "data": {
      "image/png": "[encoded data removed]",
      "text/plain": [
       "<Figure size 432x288 with 1 Axes>"
      ]
     },
     "metadata": {
      "needs_background": "light"
     },
     "output_type": "display_data"
    },
    {
     "name": "stdout",
     "output_type": "stream",
     "text": [
      "Dropout status for col = 'Scholarship holder' based on the greatest first are as follows: format = (key: occurrence)\n"
     ]
    },
    {
     "data": {
      "image/png": "[encoded data removed]",
      "text/plain": [
       "<Figure size 432x288 with 1 Axes>"
      ]
     },
     "metadata": {
      "needs_background": "light"
     },
     "output_type": "display_data"
    },
    {
     "name": "stdout",
     "output_type": "stream",
     "text": [
      "Dropout status for col = 'Age at enrollment' based on the greatest first are as follows: format = (key: occurrence)\n"
     ]
    },
    {
     "data": {
      "image/png": "[encoded data removed]",
      "text/plain": [
       "<Figure size 432x288 with 1 Axes>"
      ]
     },
     "metadata": {
      "needs_background": "light"
     },
     "output_type": "display_data"
    },
    {
     "name": "stdout",
     "output_type": "stream",
     "text": [
      "Dropout status for col = 'International' based on the greatest first are as follows: format = (key: occurrence)\n"
     ]
    },
    {
     "data": {
      "image/png": "[encoded data removed]",
      "text/plain": [
       "<Figure size 432x288 with 1 Axes>"
      ]
     },
     "metadata": {
      "needs_background": "light"
     },
     "output_type": "display_data"
    },
    {
     "name": "stdout",
     "output_type": "stream",
     "text": [
      "Dropout status for col = 'Curricular units 1st sem (credited)' based on the greatest first are as follows: format = (key: occurrence)\n"
     ]
    },
    {
     "data": {
      "image/png": "[encoded data removed]",
      "text/plain": [
       "<Figure size 432x288 with 1 Axes>"
      ]
     },
     "metadata": {
      "needs_background": "light"
     },
     "output_type": "display_data"
    },
    {
     "name": "stdout",
     "output_type": "stream",
     "text": [
      "Dropout status for col = 'Curricular units 1st sem (enrolled)' based on the greatest first are as follows: format = (key: occurrence)\n"
     ]
    },
    {
     "data": {
      "image/png": "[encoded data removed]",
      "text/plain": [
       "<Figure size 432x288 with 1 Axes>"
      ]
     },
     "metadata": {
      "needs_background": "light"
     },
     "output_type": "display_data"
    },
    {
     "name": "stdout",
     "output_type": "stream",
     "text": [
      "Dropout status for col = 'Curricular units 1st sem (evaluations)' based on the greatest first are as follows: format = (key: occurrence)\n"
     ]
    },
    {
     "data": {
      "image/png": "[encoded data removed]",
      "text/plain": [
       "<Figure size 432x288 with 1 Axes>"
      ]
     },
     "metadata": {
      "needs_background": "light"
     },
     "output_type": "display_data"
    },
    {
     "name": "stdout",
     "output_type": "stream",
     "text": [
      "Dropout status for col = 'Curricular units 1st sem (approved)' based on the greatest first are as follows: format = (key: occurrence)\n"
     ]
    },
    {
     "data": {
      "image/png": "[encoded data removed]",
      "text/plain": [
       "<Figure size 432x288 with 1 Axes>"
      ]
     },
     "metadata": {
      "needs_background": "light"
     },
     "output_type": "display_data"
    },
    {
     "name": "stdout",
     "output_type": "stream",
     "text": [
      "Dropout status for col = 'Curricular units 1st sem (grade)' based on the greatest first are as follows: format = (key: occurrence)\n"
     ]
    },
    {
     "data": {
      "image/png": "[encoded data removed]",
      "text/plain": [
       "<Figure size 432x288 with 1 Axes>"
      ]
     },
     "metadata": {
      "needs_background": "light"
     },
     "output_type": "display_data"
    },
    {
     "name": "stdout",
     "output_type": "stream",
     "text": [
      "Dropout status for col = 'Curricular units 1st sem (without evaluations)' based on the greatest first are as follows: format = (key: occurrence)\n"
     ]
    },
    {
     "data": {
      "image/png": "[encoded data removed]",
      "text/plain": [
       "<Figure size 432x288 with 1 Axes>"
      ]
     },
     "metadata": {
      "needs_background": "light"
     },
     "output_type": "display_data"
    },
    {
     "name": "stdout",
     "output_type": "stream",
     "text": [
      "Dropout status for col = 'Curricular units 2nd sem (credited)' based on the greatest first are as follows: format = (key: occurrence)\n"
     ]
    },
    {
     "data": {
      "image/png": "[encoded data removed]",
      "text/plain": [
       "<Figure size 432x288 with 1 Axes>"
      ]
     },
     "metadata": {
      "needs_background": "light"
     },
     "output_type": "display_data"
    },
    {
     "name": "stdout",
     "output_type": "stream",
     "text": [
      "Dropout status for col = 'Curricular units 2nd sem (enrolled)' based on the greatest first are as follows: format = (key: occurrence)\n"
     ]
    },
    {
     "data": {
      "image/png": "[encoded data removed]",
      "text/plain": [
       "<Figure size 432x288 with 1 Axes>"
      ]
     },
     "metadata": {
      "needs_background": "light"
     },
     "output_type": "display_data"
    },
    {
     "name": "stdout",
     "output_type": "stream",
     "text": [
      "Dropout status for col = 'Curricular units 2nd sem (evaluations)' based on the greatest first are as follows: format = (key: occurrence)\n"
     ]
    },
    {
     "data": {
      "image/png": "[encoded data removed]",
      "text/plain": [
       "<Figure size 432x288 with 1 Axes>"
      ]
     },
     "metadata": {
      "needs_background": "light"
     },
     "output_type": "display_data"
    },
    {
     "name": "stdout",
     "output_type": "stream",
     "text": [
      "Dropout status for col = 'Curricular units 2nd sem (approved)' based on the greatest first are as follows: format = (key: occurrence)\n"
     ]
    },
    {
     "data": {
      "image/png": "[encoded data removed]",
      "text/plain": [
       "<Figure size 432x288 with 1 Axes>"
      ]
     },
     "metadata": {
      "needs_background": "light"
     },
     "output_type": "display_data"
    },
    {
     "name": "stdout",
     "output_type": "stream",
     "text": [
      "Dropout status for col = 'Curricular units 2nd sem (grade)' based on the greatest first are as follows: format = (key: occurrence)\n"
     ]
    },
    {
     "data": {
      "image/png": "[encoded data removed]",
      "text/plain": [
       "<Figure size 432x288 with 1 Axes>"
      ]
     },
     "metadata": {
      "needs_background": "light"
     },
     "output_type": "display_data"
    },
    {
     "name": "stdout",
     "output_type": "stream",
     "text": [
      "Dropout status for col = 'Curricular units 2nd sem (without evaluations)' based on the greatest first are as follows: format = (key: occurrence)\n"
     ]
    },
    {
     "data": {
      "image/png": "[encoded data removed]",
      "text/plain": [
       "<Figure size 432x288 with 1 Axes>"
      ]
     },
     "metadata": {
      "needs_background": "light"
     },
     "output_type": "display_data"
    },
    {
     "name": "stdout",
     "output_type": "stream",
     "text": [
      "Dropout status for col = 'Unemployment rate' based on the greatest first are as follows: format = (key: occurrence)\n"
     ]
    },
    {
     "data": {
      "image/png": "[encoded data removed]",
      "text/plain": [
       "<Figure size 432x288 with 1 Axes>"
      ]
     },
     "metadata": {
      "needs_background": "light"
     },
     "output_type": "display_data"
    },
    {
     "name": "stdout",
     "output_type": "stream",
     "text": [
      "Dropout status for col = 'Inflation rate' based on the greatest first are as follows: format = (key: occurrence)\n"
     ]
    },
    {
     "data": {
      "image/png": "[encoded data removed]",
      "text/plain": [
       "<Figure size 432x288 with 1 Axes>"
      ]
     },
     "metadata": {
      "needs_background": "light"
     },
     "output_type": "display_data"
    },
    {
     "name": "stdout",
     "output_type": "stream",
     "text": [
      "Dropout status for col = 'GDP' based on the greatest first are as follows: format = (key: occurrence)\n"
     ]
    },
    {
     "data": {
      "image/png": "[encoded data removed]",
      "text/plain": [
       "<Figure size 432x288 with 1 Axes>"
      ]
     },
     "metadata": {
      "needs_background": "light"
     },
     "output_type": "display_data"
    },
    {
     "name": "stdout",
     "output_type": "stream",
     "text": [
      "Dropout status for col = 'Target' based on the greatest first are as follows: format = (key: occurrence)\n"
     ]
    }
   ],
   "source": [
    "# why don't we write some logic that will scan quickly through each column and give us similar stats as above\n",
    "# [(1, 1184), (2, 179), (4, 42), (5, 11), (6, 4), (3, 1)]\n",
    "list_of_columns = list(dropout_df.columns)\n",
    "figure(figsize=(12, 10), dpi=80)\n",
    "for col in list_of_columns:\n",
    "    key_list = []\n",
    "    value_list = []\n",
    "    \n",
    "    \n",
    "    dropout_col_dict = Counter(dropout_df[col]).most_common()\n",
    "    for ele in dropout_col_dict:\n",
    "#         print(ele)\n",
    "        key_list.append(ele[0])\n",
    "        value_list.append(ele[1])\n",
    "\n",
    "#     x_pos = np.arange(len(key_of_dropout_dict))\n",
    "#     default_x_ticks = range(len(key_list))\n",
    "#     plt.xticks(default_x_ticks, key_list)\n",
    "    plt.bar(key_list, value_list, align='edge')\n",
    "    \n",
    "    plt.show()\n",
    "    print(\"Dropout status for col = '{col}' based on the greatest first are as follows: format = (key: occurrence)\".format(col= col))\n",
    "    "
   ]
  },
  {
   "cell_type": "code",
   "execution_count": 69,
   "id": "verified-minority",
   "metadata": {},
   "outputs": [],
   "source": [
    "# dropout_col_dict_test = Counter(dropout_df['Curricular units 2nd sem (grade)']).most_common()\n",
    "# dropout_col_dict_test2 = Counter(dropout_df['Curricular units 2nd sem (approved)']).most_common()\n",
    "# # print(dropout_df['Course'].unique())\n",
    "# # key_list = []\n",
    "# # value_list = []\n",
    "# # print(dropout_col_dict)\n",
    "# # for ele in dropout_col_dict:\n",
    "# #     key_list.append(ele[0])\n",
    "# #     value_list.append(ele[1])\n",
    "\n",
    "# # print((key_list))\n",
    "# # print((value_list))\n",
    "# # default_x_ticks = range(len(key_list))\n",
    "# # plt.bar(key_list, value_list, align='center')\n",
    "# # # plt.pie(key_list, value_list)\n",
    "# # plt.xticks(default_x_ticks, key_list)\n",
    "# # plt.show()\n",
    "# # print(dropout_col_dict_test)\n",
    "# # print(dropout_df['Curricular units 2nd sem (grade)'].unique())\n",
    "\n",
    "# print(dropout_col_dict_test2)\n",
    "# # print(dropout_df['Curricular units 2nd sem (approved)'].unique())\n",
    "# # print(dropout_df['Curricular units 2nd sem (approved)'].tolist())"
   ]
  },
  {
   "cell_type": "code",
   "execution_count": null,
   "id": "helpful-fairy",
   "metadata": {},
   "outputs": [],
   "source": []
  },
  {
   "cell_type": "markdown",
   "id": "referenced-rainbow",
   "metadata": {},
   "source": [
    "## Logistic Regression model"
   ]
  },
  {
   "cell_type": "code",
   "execution_count": 263,
   "id": "recorded-bunch",
   "metadata": {},
   "outputs": [],
   "source": [
    "from sklearn.linear_model import LogisticRegression\n",
    "from sklearn.feature_selection import RFE\n",
    "df3 = read_dataset()"
   ]
  },
  {
   "cell_type": "code",
   "execution_count": 264,
   "id": "civic-coordinate",
   "metadata": {},
   "outputs": [
    {
     "name": "stdout",
     "output_type": "stream",
     "text": [
      "25\n"
     ]
    }
   ],
   "source": [
    "# print(len(sort))\n",
    "# Selecting 1st 25 features\n",
    "df3 = df3.iloc[:, sort[:25]]\n",
    "print(len(df3.columns))"
   ]
  },
  {
   "cell_type": "code",
   "execution_count": 265,
   "id": "interim-manchester",
   "metadata": {},
   "outputs": [
    {
     "name": "stdout",
     "output_type": "stream",
     "text": [
      "Index(['International', 'Educational special needs',\n",
      "       'Daytime/evening attendance', 'Marital status', 'Nacionality',\n",
      "       'Curricular units 1st sem (without evaluations)',\n",
      "       'Curricular units 2nd sem (credited)',\n",
      "       'Curricular units 2nd sem (without evaluations)',\n",
      "       'Curricular units 1st sem (credited)', 'Previous qualification',\n",
      "       'Scholarship holder', 'Displaced', 'Gender', 'Debtor',\n",
      "       'Application order', 'Unemployment rate',\n",
      "       'Curricular units 1st sem (enrolled)',\n",
      "       'Curricular units 2nd sem (enrolled)', 'Mother's qualification',\n",
      "       'Inflation rate', 'Application mode', 'Father's qualification',\n",
      "       'Father's occupation', 'Curricular units 1st sem (evaluations)',\n",
      "       'Curricular units 1st sem (approved)'],\n",
      "      dtype='object')\n"
     ]
    }
   ],
   "source": [
    "print(df3.columns)"
   ]
  },
  {
   "cell_type": "code",
   "execution_count": null,
   "id": "micro-seeker",
   "metadata": {},
   "outputs": [],
   "source": []
  },
  {
   "cell_type": "code",
   "execution_count": 269,
   "id": "sunrise-window",
   "metadata": {},
   "outputs": [],
   "source": [
    "X = pd.DataFrame(df3, columns=df3.columns)\n",
    "y = df['Target']\n",
    "X_train, X_test, y_train, y_test = train_test_split(X, y, test_size=0.20, random_state=0)"
   ]
  },
  {
   "cell_type": "code",
   "execution_count": 270,
   "id": "interpreted-palace",
   "metadata": {},
   "outputs": [
    {
     "name": "stderr",
     "output_type": "stream",
     "text": [
      "c:\\users\\vedant\\appdata\\local\\programs\\python\\python36\\lib\\site-packages\\sklearn\\linear_model\\_logistic.py:765: ConvergenceWarning: lbfgs failed to converge (status=1):\n",
      "STOP: TOTAL NO. of ITERATIONS REACHED LIMIT.\n",
      "\n",
      "Increase the number of iterations (max_iter) or scale the data as shown in:\n",
      "    https://scikit-learn.org/stable/modules/preprocessing.html\n",
      "Please also refer to the documentation for alternative solver options:\n",
      "    https://scikit-learn.org/stable/modules/linear_model.html#logistic-regression\n",
      "  extra_warning_msg=_LOGISTIC_SOLVER_CONVERGENCE_MSG)\n"
     ]
    }
   ],
   "source": [
    "logreg = LogisticRegression()\n",
    "# rfe = RFE(logreg, 20)\n",
    "rfe = logreg.fit(X_train, y_train)"
   ]
  },
  {
   "cell_type": "code",
   "execution_count": 271,
   "id": "traditional-accommodation",
   "metadata": {
    "scrolled": true
   },
   "outputs": [
    {
     "name": "stdout",
     "output_type": "stream",
     "text": [
      "Accuracy of logistic regression classifier on test set: 0.74\n"
     ]
    }
   ],
   "source": [
    "# print(rfe.support_)\n",
    "# print(rfe.ranking_)\n",
    "# print(rfe.summary2())\n",
    "# # print(rfe.ranking_)\n",
    "y_pred = rfe.predict(X_test)\n",
    "print('Accuracy of logistic regression classifier on test set: {:.2f}'.format(logreg.score(X_test, y_test)))"
   ]
  },
  {
   "cell_type": "code",
   "execution_count": 191,
   "id": "identified-consultation",
   "metadata": {},
   "outputs": [],
   "source": [
    "# Things to try:\n",
    "# Study each feature. Know what they mean\n",
    "# Feature engineering -reduce the columns and select the one's that have high relevance\n",
    "# Build/ understand a proper confusion matrix\n",
    "# Find out accuracy, recall, f1 score, etc"
   ]
  },
  {
   "cell_type": "code",
   "execution_count": 274,
   "id": "mental-litigation",
   "metadata": {},
   "outputs": [
    {
     "name": "stdout",
     "output_type": "stream",
     "text": [
      "    -1    0   1\n",
      "0  226   47  11\n",
      "1   33  406  11\n",
      "2   61   66  24\n",
      "0.741\n"
     ]
    }
   ],
   "source": [
    "print(pd.DataFrame(confusion_matrix(y_test, y_pred), columns = list(df['Target'].unique())))\n",
    "# print(accuracy_score(y_test, y_pred).round(3))"
   ]
  },
  {
   "cell_type": "code",
   "execution_count": 9,
   "id": "changed-discharge",
   "metadata": {},
   "outputs": [],
   "source": [
    "df4 = read_dataset()\n"
   ]
  },
  {
   "cell_type": "markdown",
   "id": "black-sport",
   "metadata": {},
   "source": [
    "# We have a base model ready, now let's try to build on this and improve the accuracy"
   ]
  },
  {
   "cell_type": "code",
   "execution_count": 45,
   "id": "devoted-marketing",
   "metadata": {},
   "outputs": [],
   "source": [
    "df5 = read_dataset()"
   ]
  },
  {
   "cell_type": "markdown",
   "id": "abandoned-concentrate",
   "metadata": {},
   "source": [
    "# Since we are only looking for Droupout students, we can group other labels into 1 Label"
   ]
  },
  {
   "cell_type": "code",
   "execution_count": 11,
   "id": "following-skating",
   "metadata": {},
   "outputs": [],
   "source": [
    "# # dict_target = {'Dropout':-1, 'Graduate': 0, 'Enrolled': 1}\n",
    "# dict_target = {'Dropout':-1, 'Graduate': 0, 'Enrolled': 1}"
   ]
  },
  {
   "cell_type": "code",
   "execution_count": 46,
   "id": "medium-auction",
   "metadata": {},
   "outputs": [
    {
     "data": {
      "text/plain": [
       "array(['Dropout', 'Graduate', 'Enrolled'], dtype=object)"
      ]
     },
     "execution_count": 46,
     "metadata": {},
     "output_type": "execute_result"
    }
   ],
   "source": [
    "# df5['Target'] = df5['Target'].map(dict_target)\n",
    "df5['Target'].unique()"
   ]
  },
  {
   "cell_type": "code",
   "execution_count": 47,
   "id": "damaged-symbol",
   "metadata": {},
   "outputs": [
    {
     "name": "stdout",
     "output_type": "stream",
     "text": [
      "['Dropout' 'Graduate']\n",
      "As we can see from above list, we have converted the multiclass classification problem into a Binary classification problem\n"
     ]
    }
   ],
   "source": [
    "dict_new_target = {'Dropout':'Dropout', 'Graduate':'Graduate', 'Enrolled':'Graduate'}\n",
    "df5['Target'] = df5['Target'].map(dict_new_target)\n",
    "print(df5['Target'].unique())\n",
    "print(\"As we can see from above list, we have converted the multiclass classification problem into a Binary classification problem\")"
   ]
  },
  {
   "cell_type": "code",
   "execution_count": 48,
   "id": "front-rainbow",
   "metadata": {},
   "outputs": [],
   "source": [
    "dropout_df5 = df5[df5['Target'] == 'Dropout']"
   ]
  },
  {
   "cell_type": "code",
   "execution_count": 50,
   "id": "thick-render",
   "metadata": {},
   "outputs": [
    {
     "name": "stdout",
     "output_type": "stream",
     "text": [
      "The total number of records we are having are: (4424, 37)\n",
      "The total number of dropout records we are having are: (1421, 37)\n",
      "\n",
      "==================================================================\n",
      "The percentage of students that have dropped out are 32.12%\n"
     ]
    }
   ],
   "source": [
    "print(\"The total number of records we are having are: {}\".format(df5.shape))\n",
    "print(\"The total number of dropout records we are having are: {}\".format(dropout_df5.shape))\n",
    "print(\"\\n==================================================================\")\n",
    "total_number = df5.shape[0]\n",
    "dropout_number = dropout_df5.shape[0]\n",
    "print(\"The percentage of students that have dropped out are {}%\".format(round((dropout_number/total_number)*100, 2)))"
   ]
  },
  {
   "cell_type": "code",
   "execution_count": 25,
   "id": "adaptive-cream",
   "metadata": {},
   "outputs": [],
   "source": [
    "# df4.head()"
   ]
  },
  {
   "cell_type": "code",
   "execution_count": null,
   "id": "skilled-slide",
   "metadata": {},
   "outputs": [],
   "source": []
  },
  {
   "cell_type": "code",
   "execution_count": 51,
   "id": "widespread-shift",
   "metadata": {},
   "outputs": [],
   "source": [
    "dict_target = {'Dropout':1, 'Graduate':0}\n",
    "df5['Target'] = df5['Target'].map(dict_target)\n"
   ]
  },
  {
   "cell_type": "code",
   "execution_count": 52,
   "id": "accomplished-wallace",
   "metadata": {},
   "outputs": [
    {
     "data": {
      "text/plain": [
       "array([1, 0], dtype=int64)"
      ]
     },
     "execution_count": 52,
     "metadata": {},
     "output_type": "execute_result"
    }
   ],
   "source": [
    "df5['Target'].unique()"
   ]
  },
  {
   "cell_type": "code",
   "execution_count": 53,
   "id": "adjusted-dryer",
   "metadata": {},
   "outputs": [],
   "source": [
    "X = pd.DataFrame(df5, columns=df5.columns)\n",
    "y = df5['Target']\n",
    "X_train, X_test, y_train, y_test = train_test_split(X, y, test_size=0.25, random_state=0)"
   ]
  },
  {
   "cell_type": "code",
   "execution_count": 87,
   "id": "narrow-catch",
   "metadata": {},
   "outputs": [
    {
     "name": "stdout",
     "output_type": "stream",
     "text": [
      "25\n"
     ]
    }
   ],
   "source": [
    "# We take the first 25 most relevant features\n",
    "rf = RandomForestRegressor(n_estimators=150)\n",
    "rf.fit(X_train, y_train)\n",
    "sort = rf.feature_importances_.argsort()\n",
    "\n",
    "df5 = df5.iloc[:, sort[:25]]\n",
    "print(len(df5.columns))"
   ]
  },
  {
   "cell_type": "code",
   "execution_count": 68,
   "id": "authentic-salad",
   "metadata": {},
   "outputs": [],
   "source": [
    "# X = pd.DataFrame(df4, columns=df4.columns)\n",
    "# y = df5['Target']\n",
    "# X_train, X_test, y_train, y_test = train_test_split(X, y, test_size=0.10, random_state=0)"
   ]
  },
  {
   "cell_type": "code",
   "execution_count": 54,
   "id": "distinct-sauce",
   "metadata": {},
   "outputs": [
    {
     "name": "stderr",
     "output_type": "stream",
     "text": [
      "c:\\users\\vedant\\appdata\\local\\programs\\python\\python36\\lib\\site-packages\\sklearn\\linear_model\\_logistic.py:765: ConvergenceWarning: lbfgs failed to converge (status=1):\n",
      "STOP: TOTAL NO. of ITERATIONS REACHED LIMIT.\n",
      "\n",
      "Increase the number of iterations (max_iter) or scale the data as shown in:\n",
      "    https://scikit-learn.org/stable/modules/preprocessing.html\n",
      "Please also refer to the documentation for alternative solver options:\n",
      "    https://scikit-learn.org/stable/modules/linear_model.html#logistic-regression\n",
      "  extra_warning_msg=_LOGISTIC_SOLVER_CONVERGENCE_MSG)\n"
     ]
    }
   ],
   "source": [
    "logreg = LogisticRegression()\n",
    "# rfe = RFE(logreg, 20)\n",
    "rfe = logreg.fit(X_train, y_train)"
   ]
  },
  {
   "cell_type": "code",
   "execution_count": 55,
   "id": "approximate-toolbox",
   "metadata": {},
   "outputs": [
    {
     "name": "stdout",
     "output_type": "stream",
     "text": [
      "Accuracy of logistic regression classifier on test set: 0.83\n"
     ]
    }
   ],
   "source": [
    "# print(rfe.support_)\n",
    "# print(rfe.ranking_)\n",
    "# print(rfe.summary2())\n",
    "# # print(rfe.ranking_)\n",
    "y_pred = rfe.predict(X_test)\n",
    "print('Accuracy of logistic regression classifier on test set: {:.2f}'.format(logreg.score(X_test, y_test)))"
   ]
  },
  {
   "cell_type": "code",
   "execution_count": 128,
   "id": "selected-drill",
   "metadata": {},
   "outputs": [],
   "source": [
    "# print(pd.DataFrame(confusion_matrix(y_test, y_pred), columns = list(df5['Target'].unique())))\n"
   ]
  },
  {
   "cell_type": "code",
   "execution_count": 56,
   "id": "supported-multiple",
   "metadata": {},
   "outputs": [
    {
     "name": "stdout",
     "output_type": "stream",
     "text": [
      "0.8451882845188284\n"
     ]
    }
   ],
   "source": [
    "from sklearn.metrics import accuracy_score, f1_score, precision_score, recall_score, classification_report, confusion_matrix\n",
    "print(precision_score(y_test, y_pred))\n",
    "# print(f1_score(y_test, y_pred))"
   ]
  },
  {
   "cell_type": "code",
   "execution_count": 57,
   "id": "conditional-summer",
   "metadata": {},
   "outputs": [],
   "source": [
    "confusion_matrix = metrics.confusion_matrix(y_test, y_pred)"
   ]
  },
  {
   "cell_type": "code",
   "execution_count": 58,
   "id": "careful-garbage",
   "metadata": {},
   "outputs": [],
   "source": [
    "from sklearn import metrics\n",
    "cm_display = metrics.ConfusionMatrixDisplay(confusion_matrix = confusion_matrix, display_labels = [False, True])"
   ]
  },
  {
   "cell_type": "code",
   "execution_count": 59,
   "id": "entire-applicant",
   "metadata": {},
   "outputs": [
    {
     "data": {
      "image/png": "[encoded data removed]",
      "text/plain": [
       "<Figure size 432x288 with 2 Axes>"
      ]
     },
     "metadata": {
      "needs_background": "light"
     },
     "output_type": "display_data"
    }
   ],
   "source": [
    "cm_display.plot()\n",
    "plt.show()"
   ]
  },
  {
   "cell_type": "code",
   "execution_count": 60,
   "id": "paperback-indiana",
   "metadata": {},
   "outputs": [
    {
     "name": "stdout",
     "output_type": "stream",
     "text": [
      "0.8451882845188284\n"
     ]
    }
   ],
   "source": [
    "Precision = metrics.precision_score(y_test, y_pred)\n",
    "print(Precision)"
   ]
  },
  {
   "cell_type": "code",
   "execution_count": 61,
   "id": "elder-lesbian",
   "metadata": {},
   "outputs": [
    {
     "name": "stdout",
     "output_type": "stream",
     "text": [
      "0.5722379603399433\n"
     ]
    }
   ],
   "source": [
    "Sensitivity_recall = metrics.recall_score(y_test, y_pred)\n",
    "print(Sensitivity_recall)"
   ]
  },
  {
   "cell_type": "code",
   "execution_count": 62,
   "id": "threaded-slovak",
   "metadata": {},
   "outputs": [
    {
     "name": "stdout",
     "output_type": "stream",
     "text": [
      "0.950863213811421\n"
     ]
    }
   ],
   "source": [
    "Specificity = metrics.recall_score(y_test, y_pred, pos_label=0)\n",
    "print(Specificity)"
   ]
  },
  {
   "cell_type": "code",
   "execution_count": 63,
   "id": "invalid-monitor",
   "metadata": {},
   "outputs": [
    {
     "name": "stdout",
     "output_type": "stream",
     "text": [
      "0.6824324324324323\n"
     ]
    }
   ],
   "source": [
    "F1_score = metrics.f1_score(y_test, y_pred)\n",
    "print(F1_score)"
   ]
  },
  {
   "cell_type": "code",
   "execution_count": 64,
   "id": "figured-flower",
   "metadata": {},
   "outputs": [
    {
     "data": {
      "text/plain": [
       "Text(0, 0.5, 'True Positive Rate')"
      ]
     },
     "execution_count": 64,
     "metadata": {},
     "output_type": "execute_result"
    },
    {
     "data": {
      "image/png": "[encoded data removed]",
      "text/plain": [
       "<Figure size 432x288 with 1 Axes>"
      ]
     },
     "metadata": {
      "needs_background": "light"
     },
     "output_type": "display_data"
    }
   ],
   "source": [
    "fpr, tpr, thresholds = roc_curve(y_test, y_pred)\n",
    "plt.plot(fpr, tpr)\n",
    "plt.xlabel('False Positive Rate')\n",
    "plt.ylabel('True Positive Rate')"
   ]
  },
  {
   "cell_type": "code",
   "execution_count": 65,
   "id": "incorrect-threshold",
   "metadata": {},
   "outputs": [
    {
     "name": "stdout",
     "output_type": "stream",
     "text": [
      "0.7615505870756822\n"
     ]
    }
   ],
   "source": [
    "from sklearn.metrics import roc_auc_score\n",
    "\n",
    "micro_roc_auc_ovr = roc_auc_score(\n",
    "    y_test, y_pred,\n",
    "    multi_class=\"ovr\",\n",
    "    average=\"micro\",\n",
    ")\n",
    "\n",
    "print(micro_roc_auc_ovr)"
   ]
  },
  {
   "cell_type": "code",
   "execution_count": null,
   "id": "amended-business",
   "metadata": {},
   "outputs": [],
   "source": []
  },
  {
   "cell_type": "markdown",
   "id": "behind-junior",
   "metadata": {},
   "source": [
    "## Trying to transform the data and see if the model accuracy & recall can be increased."
   ]
  },
  {
   "cell_type": "code",
   "execution_count": 5,
   "id": "leading-kazakhstan",
   "metadata": {},
   "outputs": [],
   "source": [
    "df6 = read_dataset()"
   ]
  },
  {
   "cell_type": "code",
   "execution_count": 6,
   "id": "written-arabic",
   "metadata": {},
   "outputs": [
    {
     "name": "stdout",
     "output_type": "stream",
     "text": [
      "['Dropout' 'Graduate']\n",
      "As we can see from above list, we have converted the multiclass classification problem into a Binary classification problem\n"
     ]
    }
   ],
   "source": [
    "dict_new_target6 = {'Dropout':'Dropout', 'Graduate':'Graduate', 'Enrolled':'Graduate'}\n",
    "df6['Target'] = df6['Target'].map(dict_new_target6)\n",
    "print(df6['Target'].unique())\n",
    "print(\"As we can see from above list, we have converted the multiclass classification problem into a Binary classification problem\")"
   ]
  },
  {
   "cell_type": "code",
   "execution_count": 7,
   "id": "agreed-makeup",
   "metadata": {},
   "outputs": [],
   "source": [
    "dropout_df6 = df6[df6['Target'] == 'Dropout']"
   ]
  },
  {
   "cell_type": "code",
   "execution_count": 8,
   "id": "supreme-calgary",
   "metadata": {},
   "outputs": [],
   "source": [
    "dict_target6 = {'Dropout':1, 'Graduate':0}\n",
    "df6['Target'] = df6['Target'].map(dict_target6)\n"
   ]
  },
  {
   "cell_type": "code",
   "execution_count": 9,
   "id": "nuclear-canvas",
   "metadata": {},
   "outputs": [
    {
     "name": "stdout",
     "output_type": "stream",
     "text": [
      "The total number of records we are having are: (4424, 37)\n",
      "The total number of dropout records we are having are: (1421, 37)\n",
      "\n",
      "==================================================================\n",
      "The percentage of students that have dropped out are 32.12%\n"
     ]
    }
   ],
   "source": [
    "print(\"The total number of records we are having are: {}\".format(df6.shape))\n",
    "print(\"The total number of dropout records we are having are: {}\".format(dropout_df6.shape))\n",
    "print(\"\\n==================================================================\")\n",
    "total_number = df6.shape[0]\n",
    "dropout_number = dropout_df6.shape[0]\n",
    "print(\"The percentage of students that have dropped out are {}%\".format(round((dropout_number/total_number)*100, 2)))"
   ]
  },
  {
   "cell_type": "code",
   "execution_count": 10,
   "id": "legitimate-thousand",
   "metadata": {},
   "outputs": [],
   "source": [
    "# X = pd.DataFrame(df6.iloc[:, :-2], columns=df6.columns[-2])\n",
    "# y = df6['Target']\n",
    "# X_train, X_test, y_train, y_test = train_test_split(X, y, test_size=0.25, random_state=0)"
   ]
  },
  {
   "cell_type": "code",
   "execution_count": 11,
   "id": "consolidated-range",
   "metadata": {},
   "outputs": [],
   "source": [
    "X = df6.iloc[:, :-2]\n",
    "# X.columns\n",
    "y = df6['Target']\n",
    "X_train, X_test, y_train, y_test = train_test_split(X, y, test_size=0.15, random_state=0)"
   ]
  },
  {
   "cell_type": "code",
   "execution_count": 12,
   "id": "collaborative-appearance",
   "metadata": {},
   "outputs": [],
   "source": [
    "from sklearn.preprocessing import StandardScaler\n",
    "scaler = StandardScaler()"
   ]
  },
  {
   "cell_type": "code",
   "execution_count": 13,
   "id": "outstanding-exhaust",
   "metadata": {},
   "outputs": [],
   "source": [
    "X_train_scaled = scaler.fit_transform(X_train)"
   ]
  },
  {
   "cell_type": "code",
   "execution_count": 14,
   "id": "interior-hudson",
   "metadata": {},
   "outputs": [],
   "source": [
    "X_test_scaled = scaler.transform(X_test)"
   ]
  },
  {
   "cell_type": "code",
   "execution_count": 15,
   "id": "plain-posting",
   "metadata": {},
   "outputs": [],
   "source": [
    "classification = LogisticRegression()"
   ]
  },
  {
   "cell_type": "code",
   "execution_count": 16,
   "id": "confused-eight",
   "metadata": {},
   "outputs": [
    {
     "data": {
      "text/plain": [
       "LogisticRegression()"
      ]
     },
     "execution_count": 16,
     "metadata": {},
     "output_type": "execute_result"
    }
   ],
   "source": [
    "classification.fit(X_train_scaled, y_train)\n",
    "# df6.isna().sum()"
   ]
  },
  {
   "cell_type": "code",
   "execution_count": 17,
   "id": "great-independence",
   "metadata": {},
   "outputs": [],
   "source": [
    "y_pred = classification.predict(X_test_scaled)"
   ]
  },
  {
   "cell_type": "code",
   "execution_count": 18,
   "id": "assigned-sustainability",
   "metadata": {},
   "outputs": [
    {
     "name": "stdout",
     "output_type": "stream",
     "text": [
      "[[414  34]\n",
      " [ 49 167]]\n"
     ]
    }
   ],
   "source": [
    "confusion_matrix = metrics.confusion_matrix(y_test, y_pred)\n",
    "print(confusion_matrix)"
   ]
  },
  {
   "cell_type": "code",
   "execution_count": 19,
   "id": "challenging-invite",
   "metadata": {},
   "outputs": [
    {
     "name": "stdout",
     "output_type": "stream",
     "text": [
      "0.8308457711442786\n"
     ]
    }
   ],
   "source": [
    "Precision = metrics.precision_score(y_test, y_pred)\n",
    "print(Precision)"
   ]
  },
  {
   "cell_type": "code",
   "execution_count": 20,
   "id": "unknown-czech",
   "metadata": {},
   "outputs": [
    {
     "name": "stdout",
     "output_type": "stream",
     "text": [
      "0.7731481481481481\n"
     ]
    }
   ],
   "source": [
    "Sensitivity_recall = metrics.recall_score(y_test, y_pred)\n",
    "print(Sensitivity_recall)"
   ]
  },
  {
   "cell_type": "code",
   "execution_count": 21,
   "id": "shaped-rebecca",
   "metadata": {},
   "outputs": [
    {
     "name": "stdout",
     "output_type": "stream",
     "text": [
      "0.9241071428571429\n"
     ]
    }
   ],
   "source": [
    "Specificity = metrics.recall_score(y_test, y_pred, pos_label=0)\n",
    "print(Specificity)"
   ]
  },
  {
   "cell_type": "code",
   "execution_count": 22,
   "id": "composed-anatomy",
   "metadata": {},
   "outputs": [
    {
     "name": "stdout",
     "output_type": "stream",
     "text": [
      "0.8009592326139089\n"
     ]
    }
   ],
   "source": [
    "F1_score = metrics.f1_score(y_test, y_pred)\n",
    "print(F1_score)"
   ]
  },
  {
   "cell_type": "code",
   "execution_count": 32,
   "id": "surprised-projection",
   "metadata": {},
   "outputs": [
    {
     "name": "stdout",
     "output_type": "stream",
     "text": [
      "              precision    recall  f1-score  support\n",
      "0              0.894168  0.924107  0.908891  448.000\n",
      "1              0.830846  0.773148  0.800959  216.000\n",
      "accuracy       0.875000  0.875000  0.875000    0.875\n",
      "macro avg      0.862507  0.848628  0.854925  664.000\n",
      "weighted avg   0.873570  0.875000  0.873781  664.000\n"
     ]
    }
   ],
   "source": [
    "report = metrics.classification_report(y_test, y_pred, output_dict=True)\n",
    "# print(report)\n",
    "report_df = pd.DataFrame(report).transpose()\n",
    "print(report_df)"
   ]
  },
  {
   "cell_type": "code",
   "execution_count": 36,
   "id": "executed-bernard",
   "metadata": {},
   "outputs": [],
   "source": [
    "from sklearn import metrics\n",
    "cm_display = metrics.ConfusionMatrixDisplay(confusion_matrix = confusion_matrix, display_labels = [\"Graduate\", \"Dropout\"])"
   ]
  },
  {
   "cell_type": "code",
   "execution_count": 37,
   "id": "binding-capture",
   "metadata": {},
   "outputs": [
    {
     "data": {
      "image/png": "[encoded data removed]",
      "text/plain": [
       "<Figure size 432x288 with 2 Axes>"
      ]
     },
     "metadata": {
      "needs_background": "light"
     },
     "output_type": "display_data"
    }
   ],
   "source": [
    "cm_display.plot()\n",
    "plt.show()"
   ]
  },
  {
   "cell_type": "code",
   "execution_count": 38,
   "id": "threatened-conspiracy",
   "metadata": {},
   "outputs": [
    {
     "data": {
      "text/plain": [
       "Text(0, 0.5, 'True Positive Rate')"
      ]
     },
     "execution_count": 38,
     "metadata": {},
     "output_type": "execute_result"
    },
    {
     "data": {
      "image/png": "[encoded data removed]",
      "text/plain": [
       "<Figure size 432x288 with 1 Axes>"
      ]
     },
     "metadata": {
      "needs_background": "light"
     },
     "output_type": "display_data"
    }
   ],
   "source": [
    "fpr, tpr, thresholds = roc_curve(y_test, y_pred)\n",
    "plt.plot(fpr, tpr)\n",
    "plt.xlabel('False Positive Rate')\n",
    "plt.ylabel('True Positive Rate')"
   ]
  },
  {
   "cell_type": "code",
   "execution_count": null,
   "id": "norwegian-bahrain",
   "metadata": {},
   "outputs": [],
   "source": []
  },
  {
   "cell_type": "code",
   "execution_count": 2,
   "id": "married-beginning",
   "metadata": {},
   "outputs": [],
   "source": [
    "# from numpy import mean\n",
    "# from numpy import std\n",
    "# from sklearn.model_selection import cross_val_score\n",
    "# from sklearn.model_selection import RepeatedKFold\n",
    "\n",
    "# cv = RepeatedKFold(n_splits=10, n_repeats=3, random_state=1)\n",
    "\n",
    "# scores = cross_val_score(classification, X, y, scoring='accuracy', cv=cv, n_jobs=-1)"
   ]
  },
  {
   "cell_type": "code",
   "execution_count": 1,
   "id": "played-surge",
   "metadata": {},
   "outputs": [],
   "source": [
    "# print('Accuracy: %.3f (%.3f)' % (mean(scores), std(scores)))"
   ]
  },
  {
   "cell_type": "code",
   "execution_count": null,
   "id": "specialized-hotel",
   "metadata": {},
   "outputs": [],
   "source": []
  },
  {
   "cell_type": "code",
   "execution_count": null,
   "id": "final-password",
   "metadata": {},
   "outputs": [],
   "source": []
  },
  {
   "cell_type": "code",
   "execution_count": null,
   "id": "administrative-alloy",
   "metadata": {},
   "outputs": [],
   "source": []
  },
  {
   "cell_type": "code",
   "execution_count": null,
   "id": "electronic-emperor",
   "metadata": {},
   "outputs": [],
   "source": []
  },
  {
   "cell_type": "code",
   "execution_count": null,
   "id": "anticipated-billy",
   "metadata": {},
   "outputs": [],
   "source": []
  },
  {
   "cell_type": "code",
   "execution_count": null,
   "id": "broke-cooperation",
   "metadata": {},
   "outputs": [],
   "source": []
  },
  {
   "cell_type": "code",
   "execution_count": null,
   "id": "reported-buffer",
   "metadata": {},
   "outputs": [],
   "source": []
  },
  {
   "cell_type": "code",
   "execution_count": null,
   "id": "bizarre-herald",
   "metadata": {},
   "outputs": [],
   "source": []
  }
 ],
 "metadata": {
  "kernelspec": {
   "display_name": "Python 3",
   "language": "python",
   "name": "python3"
  },
  "language_info": {
   "codemirror_mode": {
    "name": "ipython",
    "version": 3
   },
   "file_extension": ".py",
   "mimetype": "text/x-python",
   "name": "python",
   "nbconvert_exporter": "python",
   "pygments_lexer": "ipython3",
   "version": "3.6.5"
  }
 },
 "nbformat": 4,
 "nbformat_minor": 5
}
